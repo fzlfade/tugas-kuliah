{
 "cells": [
  {
   "cell_type": "code",
   "execution_count": 24,
   "id": "df237e7e-79e0-49dc-ab08-cf4d42f3972d",
   "metadata": {
    "tags": []
   },
   "outputs": [
    {
     "name": "stdout",
     "output_type": "stream",
     "text": [
      "Nama        : Faizal Deshta Nugraha\n",
      "NPM         : 2340506065\n",
      "Alamat      : Jl. Mayjend Soengkono, Blater, Kalimanah, Purbalingga 53371\n",
      "Tinggi Badan: 178\n",
      "Berat Badan : 84\n"
     ]
    }
   ],
   "source": [
    "print(\"Nama        : Faizal Deshta Nugraha\\nNPM         : 2340506065\\nAlamat      : Jl. Mayjend Soengkono, Blater, Kalimanah, Purbalingga 53371\\nTinggi Badan: 178\\nBerat Badan : 84\")"
   ]
  },
  {
   "cell_type": "code",
   "execution_count": 43,
   "id": "f5ef6cab-8be6-4ed3-87de-77651c5b8433",
   "metadata": {
    "tags": []
   },
   "outputs": [
    {
     "name": "stdout",
     "output_type": "stream",
     "text": [
      "\u001b[1mUNIVERSITAS TIDAR\u001b[0m\n",
      "Universitas Tidar merupakan Perguruan Tinggi Pemerintah atau Perguruan Tinggi Negeri yang telah ditetapkan berdasarkan Peraturan Presiden Republik Indonesia Nomor 23 Tahun 2014\n",
      "pada tanggal 1 April 2014\n",
      "\n",
      "\n",
      "\u001b[1mJURUSAN TEKNIK ELEKTRO\u001b[0m\n",
      "Jurusan Teknik Elektro terdiri atas tiga program studi, antara lain:\n",
      "    1. S1 Teknik Elektro (\u001b[3mBachelor of Electrical Engineering\u001b[0m)\n",
      "    2. S1 Teknologi Informasi \u001b[3m(Bachelor of Information Technology)\u001b[0m\n",
      "    3. S1 Teknik Mekatronika \u001b[3m(Bachelor of Mechatronics Engineering)\u001b[0m\n"
     ]
    }
   ],
   "source": [
    "print(\"\\033[1mUNIVERSITAS TIDAR\\033[0m\")\n",
    "print(\"Universitas Tidar merupakan Perguruan Tinggi Pemerintah atau Perguruan Tinggi Negeri yang telah ditetapkan berdasarkan Peraturan Presiden Republik Indonesia Nomor 23 Tahun 2014\\npada tanggal 1 April 2014\\n\\n\")\n",
    "\n",
    "\n",
    "print(\"\\033[1mJURUSAN TEKNIK ELEKTRO\\033[0m\")\n",
    "print(\"Jurusan Teknik Elektro terdiri atas tiga program studi, antara lain:\")\n",
    "print(\"    1. S1 Teknik Elektro (\\033[3mBachelor of Electrical Engineering\\033[0m)\\n    2. S1 Teknologi Informasi \\x1B[3m(Bachelor of Information Technology)\\x1B[0m\\n    3. S1 Teknik Mekatronika \\x1B[3m(Bachelor of Mechatronics Engineering)\\x1B[0m\")"
   ]
  }
 ],
 "metadata": {
  "kernelspec": {
   "display_name": "base",
   "language": "python",
   "name": "python3"
  },
  "language_info": {
   "codemirror_mode": {
    "name": "ipython",
    "version": 3
   },
   "file_extension": ".py",
   "mimetype": "text/x-python",
   "name": "python",
   "nbconvert_exporter": "python",
   "pygments_lexer": "ipython3",
   "version": "3.11.4"
  },
  "vscode": {
   "interpreter": {
    "hash": "3c06e3e46abf38078fe4dac36a0085ec2b134ebbd73dd076183d243eeca6918f"
   }
  }
 },
 "nbformat": 4,
 "nbformat_minor": 5
}
