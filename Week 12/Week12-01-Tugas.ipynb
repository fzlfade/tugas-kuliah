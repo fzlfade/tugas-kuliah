{
 "cells": [
  {
   "cell_type": "markdown",
   "metadata": {},
   "source": [
    "<h2>Weekly Exercise 1"
   ]
  },
  {
   "cell_type": "code",
   "execution_count": 8,
   "metadata": {},
   "outputs": [
    {
     "name": "stdout",
     "output_type": "stream",
     "text": [
      "Luas persegi yang panjangnya 4.0 dan lebarnya 2.0  adalah 8.0\n"
     ]
    }
   ],
   "source": [
    "import matematika as mtk\n",
    "\n",
    "try:\n",
    "    choice = input(\"Pilih bangun datar (lingkaran, persegi panjang, segitiga): \")\n",
    "    if choice == 'lingkaran':\n",
    "        try:\n",
    "            r = float(input(\"Masukkan jari-jari: \"))\n",
    "            print(\"Luas lingkaran yang jari jarinya\", r, \"adalah\", mtk.lingkaran(r))\n",
    "        except ValueError:\n",
    "            print(\"Format pengisian salah!\")\n",
    "    elif choice == 'persegi panjang':\n",
    "        try:\n",
    "            p = float(input(\"Masukkan panjang: \"))\n",
    "            l = float(input(\"Masukkan lebar: \"))\n",
    "            print(\"Luas persegi panjang yang panjangnya\", p,\"dan lebarnya\", l, \" adalah\", mtk.persegipanjang(p,l))\n",
    "        except ValueError:\n",
    "            print(\"Format pengisian salah!\")\n",
    "    elif choice == 'segitiga':\n",
    "        try:\n",
    "            a = float(input(\"Masukkan alas: \"))\n",
    "            t = float(input(\"Masukkan tinggi: \"))\n",
    "            print(\"Luas segitiga yang alasnya\" ,a , \"dan tingginya\",t , \"adalah\", mtk.segitiga(a,t))\n",
    "        except ValueError:\n",
    "            print(\"Format pengisian salah!\")\n",
    "    else:\n",
    "        print(\"Maaf, pilihan tidak tersedia\")\n",
    "except ValueError:\n",
    "    print(\"Format pengisian salah!\")"
   ]
  },
  {
   "cell_type": "markdown",
   "metadata": {},
   "source": [
    "<h2>Weekly Exercise 2"
   ]
  },
  {
   "cell_type": "code",
   "execution_count": 2,
   "metadata": {},
   "outputs": [
    {
     "name": "stdout",
     "output_type": "stream",
     "text": [
      "Tipe Kamar Tidak Ditemukan!\n"
     ]
    },
    {
     "ename": "KeyError",
     "evalue": "'q'",
     "output_type": "error",
     "traceback": [
      "\u001b[1;31m---------------------------------------------------------------------------\u001b[0m",
      "\u001b[1;31mKeyError\u001b[0m                                  Traceback (most recent call last)",
      "\u001b[1;32me:\\Tugas Kampus\\Praktikum APSD\\Python\\Week 12\\Week12-01-Tugas.ipynb Cell 4\u001b[0m line \u001b[0;36m2\n\u001b[0;32m     <a href='vscode-notebook-cell:/e%3A/Tugas%20Kampus/Praktikum%20APSD/Python/Week%2012/Week12-01-Tugas.ipynb#W3sZmlsZQ%3D%3D?line=17'>18</a>\u001b[0m     \u001b[39mprint\u001b[39m(\u001b[39m\"\u001b[39m\u001b[39mTipe Kamar Tidak Ditemukan!\u001b[39m\u001b[39m\"\u001b[39m)\n\u001b[0;32m     <a href='vscode-notebook-cell:/e%3A/Tugas%20Kampus/Praktikum%20APSD/Python/Week%2012/Week12-01-Tugas.ipynb#W3sZmlsZQ%3D%3D?line=18'>19</a>\u001b[0m     exit()\n\u001b[1;32m---> <a href='vscode-notebook-cell:/e%3A/Tugas%20Kampus/Praktikum%20APSD/Python/Week%2012/Week12-01-Tugas.ipynb#W3sZmlsZQ%3D%3D?line=20'>21</a>\u001b[0m harga \u001b[39m=\u001b[39m harga_kamar[tipe]\n\u001b[0;32m     <a href='vscode-notebook-cell:/e%3A/Tugas%20Kampus/Praktikum%20APSD/Python/Week%2012/Week12-01-Tugas.ipynb#W3sZmlsZQ%3D%3D?line=22'>23</a>\u001b[0m \u001b[39mif\u001b[39;00m anggota \u001b[39m==\u001b[39m \u001b[39m\"\u001b[39m\u001b[39my\u001b[39m\u001b[39m\"\u001b[39m:\n\u001b[0;32m     <a href='vscode-notebook-cell:/e%3A/Tugas%20Kampus/Praktikum%20APSD/Python/Week%2012/Week12-01-Tugas.ipynb#W3sZmlsZQ%3D%3D?line=23'>24</a>\u001b[0m     diskon \u001b[39m=\u001b[39m harga \u001b[39m*\u001b[39m \u001b[39m0.15\u001b[39m\n",
      "\u001b[1;31mKeyError\u001b[0m: 'q'"
     ]
    },
    {
     "ename": "",
     "evalue": "",
     "output_type": "error",
     "traceback": [
      "\u001b[1;31mThe Kernel crashed while executing code in the the current cell or a previous cell. Please review the code in the cell(s) to identify a possible cause of the failure. Click <a href='https://aka.ms/vscodeJupyterKernelCrash'>here</a> for more info. View Jupyter <a href='command:jupyter.viewOutput'>log</a> for further details."
     ]
    }
   ],
   "source": [
    "harga_kamar = {\n",
    "    \"1\": 800000,\n",
    "    \"2\": 500000,\n",
    "    \"3\": 200000\n",
    "}\n",
    "\n",
    "try:\n",
    "    nama = input(\"Nama Pasien: \")\n",
    "    alamat = input(\"Alamat Pasien: \")\n",
    "    anggota = input(\"Anggota BPJS: (y/n) \")\n",
    "    lama = int(input(\"Lama Menginap: \"))\n",
    "    tipe = input(\"Tipe Kelas Kamar (1/2/3): \")\n",
    "except ValueError:\n",
    "    print(\"Format pengisian salah!\")\n",
    "    exit()\n",
    "\n",
    "if tipe not in harga_kamar:\n",
    "    print(\"Tipe Kamar Tidak Ditemukan!\")\n",
    "    exit()\n",
    "\n",
    "harga = harga_kamar[tipe]\n",
    "\n",
    "if anggota == \"y\":\n",
    "    diskon = harga * 0.15\n",
    "    harga -= diskon\n",
    "elif anggota != \"n\":\n",
    "    print(\"Format pengisian salah!\")\n",
    "    exit()\n",
    "\n",
    "total = harga * lama\n",
    "\n",
    "print(\"Nama Pasien: \", nama)\n",
    "print(\"Alamat: \", alamat)\n",
    "print(\"Anggota BPJS: \", anggota)\n",
    "print(\"Lama Menginap: \", lama , \"Hari\")\n",
    "print(\"Tipe Kelas Kamar: \", tipe)\n",
    "print(\"Total Harga: Rp.\", int(total))"
   ]
  },
  {
   "cell_type": "code",
   "execution_count": null,
   "metadata": {},
   "outputs": [],
   "source": []
  }
 ],
 "metadata": {
  "kernelspec": {
   "display_name": "Python 3",
   "language": "python",
   "name": "python3"
  },
  "language_info": {
   "codemirror_mode": {
    "name": "ipython",
    "version": 3
   },
   "file_extension": ".py",
   "mimetype": "text/x-python",
   "name": "python",
   "nbconvert_exporter": "python",
   "pygments_lexer": "ipython3",
   "version": "3.11.5"
  },
  "orig_nbformat": 4
 },
 "nbformat": 4,
 "nbformat_minor": 2
}
