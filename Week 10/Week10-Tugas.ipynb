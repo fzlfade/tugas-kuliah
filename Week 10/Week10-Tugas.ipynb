{
 "cells": [
  {
   "cell_type": "markdown",
   "metadata": {},
   "source": [
    "<h2>Weekly Exercise 1"
   ]
  },
  {
   "cell_type": "code",
   "execution_count": 1,
   "metadata": {},
   "outputs": [
    {
     "name": "stdout",
     "output_type": "stream",
     "text": [
      "factorial 5 is 120\n"
     ]
    }
   ],
   "source": [
    "def factorial(n):\n",
    "    if n == 0:\n",
    "        return 1\n",
    "    else:\n",
    "        return n * factorial(n-1)\n",
    "\n",
    "num = int(input(\"Enter a number: \"))\n",
    "print(\"factorial\",num, \"is\",factorial(num))\n"
   ]
  },
  {
   "cell_type": "markdown",
   "metadata": {},
   "source": [
    "<h2>Weekly Exercise 2"
   ]
  },
  {
   "cell_type": "code",
   "execution_count": 1,
   "metadata": {},
   "outputs": [
    {
     "ename": "ValueError",
     "evalue": "could not convert string to float: 'a'",
     "output_type": "error",
     "traceback": [
      "\u001b[1;31m---------------------------------------------------------------------------\u001b[0m",
      "\u001b[1;31mValueError\u001b[0m                                Traceback (most recent call last)",
      "\u001b[1;32me:\\Tugas Kampus\\Praktikum APSD\\Python\\Week 10\\Week10-Tugas.ipynb Cell 4\u001b[0m line \u001b[0;36m1\n\u001b[0;32m     <a href='vscode-notebook-cell:/e%3A/Tugas%20Kampus/Praktikum%20APSD/Python/Week%2010/Week10-Tugas.ipynb#W3sZmlsZQ%3D%3D?line=9'>10</a>\u001b[0m choice \u001b[39m=\u001b[39m \u001b[39minput\u001b[39m(\u001b[39m\"\u001b[39m\u001b[39mPilih bangun datar (lingkaran, persegipanjang, segitiga): \u001b[39m\u001b[39m\"\u001b[39m)\n\u001b[0;32m     <a href='vscode-notebook-cell:/e%3A/Tugas%20Kampus/Praktikum%20APSD/Python/Week%2010/Week10-Tugas.ipynb#W3sZmlsZQ%3D%3D?line=10'>11</a>\u001b[0m \u001b[39mif\u001b[39;00m choice \u001b[39m==\u001b[39m \u001b[39m'\u001b[39m\u001b[39mlingkaran\u001b[39m\u001b[39m'\u001b[39m:\n\u001b[1;32m---> <a href='vscode-notebook-cell:/e%3A/Tugas%20Kampus/Praktikum%20APSD/Python/Week%2010/Week10-Tugas.ipynb#W3sZmlsZQ%3D%3D?line=11'>12</a>\u001b[0m     r \u001b[39m=\u001b[39m \u001b[39mfloat\u001b[39;49m(\u001b[39minput\u001b[39;49m(\u001b[39m\"\u001b[39;49m\u001b[39mMasukkan jari-jari: \u001b[39;49m\u001b[39m\"\u001b[39;49m))\n\u001b[0;32m     <a href='vscode-notebook-cell:/e%3A/Tugas%20Kampus/Praktikum%20APSD/Python/Week%2010/Week10-Tugas.ipynb#W3sZmlsZQ%3D%3D?line=12'>13</a>\u001b[0m     \u001b[39mprint\u001b[39m(\u001b[39m\"\u001b[39m\u001b[39mLuas lingkaran adalah\u001b[39m\u001b[39m\"\u001b[39m, lingkaran(r))\n\u001b[0;32m     <a href='vscode-notebook-cell:/e%3A/Tugas%20Kampus/Praktikum%20APSD/Python/Week%2010/Week10-Tugas.ipynb#W3sZmlsZQ%3D%3D?line=13'>14</a>\u001b[0m \u001b[39melif\u001b[39;00m choice \u001b[39m==\u001b[39m \u001b[39m'\u001b[39m\u001b[39mpersegipanjang\u001b[39m\u001b[39m'\u001b[39m:\n",
      "\u001b[1;31mValueError\u001b[0m: could not convert string to float: 'a'"
     ]
    }
   ],
   "source": [
    "def lingkaran(r):\n",
    "    return 3.14 * r * r\n",
    "\n",
    "def persegipanjang(p,l):\n",
    "    return p * l\n",
    "\n",
    "def segitiga(a,t):\n",
    "    return 0.5 * a * t\n",
    "\n",
    "choice = input(\"Pilih bangun datar (lingkaran, persegipanjang, segitiga): \")\n",
    "if choice == 'lingkaran':\n",
    "    r = float(input(\"Masukkan jari-jari: \"))\n",
    "    print(\"Luas lingkaran adalah\", lingkaran(r))\n",
    "elif choice == 'persegipanjang':\n",
    "    p = float(input(\"Masukkan panjang: \"))\n",
    "    l = float(input(\"Masukkan lebar: \"))\n",
    "    print(\"Luas persegipanjang adalah\", persegipanjang(p,l))\n",
    "elif choice == 'segitiga':\n",
    "    a = float(input(\"Masukkan alas: \"))\n",
    "    t = float(input(\"Masukkan tinggi: \"))\n",
    "    print(\"Luas segitiga adalah\", segitiga(a,t))\n",
    "else:\n",
    "    print(\"Maaf, pilihan tidak tersedia\")\n",
    "\n",
    "if not type(r or p or l or a or t) is int:\n",
    "  raise ValueError(\"Only integers are allowed\")"
   ]
  },
  {
   "cell_type": "code",
   "execution_count": null,
   "metadata": {},
   "outputs": [],
   "source": []
  },
  {
   "cell_type": "code",
   "execution_count": null,
   "metadata": {},
   "outputs": [],
   "source": []
  }
 ],
 "metadata": {
  "kernelspec": {
   "display_name": "Python 3",
   "language": "python",
   "name": "python3"
  },
  "language_info": {
   "codemirror_mode": {
    "name": "ipython",
    "version": 3
   },
   "file_extension": ".py",
   "mimetype": "text/x-python",
   "name": "python",
   "nbconvert_exporter": "python",
   "pygments_lexer": "ipython3",
   "version": "3.11.5"
  },
  "orig_nbformat": 4
 },
 "nbformat": 4,
 "nbformat_minor": 2
}
