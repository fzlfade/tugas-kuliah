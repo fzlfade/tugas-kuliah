{
 "cells": [
  {
   "cell_type": "markdown",
   "metadata": {},
   "source": [
    "<h2> Weekly Exercise 1"
   ]
  },
  {
   "cell_type": "code",
   "execution_count": 3,
   "metadata": {},
   "outputs": [
    {
     "name": "stdout",
     "output_type": "stream",
     "text": [
      "Luas lingkaran yang jari jarinya 2.0 adalah 12.566370614359172\n"
     ]
    }
   ],
   "source": [
    "import matematika as mtk\n",
    "\n",
    "choice = input(\"Pilih bangun datar (lingkaran, persegi, segitiga): \")\n",
    "if choice == 'lingkaran':\n",
    "    r = float(input(\"Masukkan jari-jari: \"))\n",
    "    print(\"Luas lingkaran yang jari jarinya\", r, \"adalah\", mtk.lingkaran(r))\n",
    "elif choice == 'persegi':\n",
    "    s = float(input(\"Masukkan panjang sisi: \"))\n",
    "    print(\"Luas persegi yang sisinya\", s, \" adalah\", mtk.persegi(s))\n",
    "elif choice == 'segitiga':\n",
    "    a = float(input(\"Masukkan alas: \"))\n",
    "    t = float(input(\"Masukkan tinggi: \"))\n",
    "    print(\"Luas segitiga yang alasnya\" ,a , \"dan tingginya\",t , \"adalah\", mtk.segitiga(a,t))\n",
    "else:\n",
    "    print(\"Maaf, pilihan tidak tersedia\")"
   ]
  },
  {
   "cell_type": "markdown",
   "metadata": {},
   "source": [
    "<h2>Weekly Exercise 2"
   ]
  },
  {
   "cell_type": "code",
   "execution_count": 2,
   "metadata": {},
   "outputs": [
    {
     "name": "stdout",
     "output_type": "stream",
     "text": [
      "120\n",
      "9.0\n",
      "5\n",
      "4\n",
      "3.141592653589793\n"
     ]
    }
   ],
   "source": [
    "import math\n",
    "\n",
    "x = math.factorial(5)\n",
    "print(x)\n",
    "\n",
    "y = math.sqrt(81)\n",
    "print(y)\n",
    "\n",
    "z = math.ceil(4.6)\n",
    "print(z)\n",
    "\n",
    "p = math.floor(4.6)\n",
    "print(p)\n",
    "\n",
    "q = math.pi\n",
    "print(q)"
   ]
  },
  {
   "cell_type": "code",
   "execution_count": null,
   "metadata": {},
   "outputs": [],
   "source": []
  }
 ],
 "metadata": {
  "kernelspec": {
   "display_name": "Python 3",
   "language": "python",
   "name": "python3"
  },
  "language_info": {
   "codemirror_mode": {
    "name": "ipython",
    "version": 3
   },
   "file_extension": ".py",
   "mimetype": "text/x-python",
   "name": "python",
   "nbconvert_exporter": "python",
   "pygments_lexer": "ipython3",
   "version": "3.11.5"
  },
  "orig_nbformat": 4
 },
 "nbformat": 4,
 "nbformat_minor": 2
}
