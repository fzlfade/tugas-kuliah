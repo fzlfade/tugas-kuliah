{
 "cells": [
  {
   "cell_type": "code",
   "execution_count": 4,
   "metadata": {},
   "outputs": [
    {
     "name": "stdout",
     "output_type": "stream",
     "text": [
      "     *\n",
      "    * *\n",
      "   * * *\n",
      "  * * * *\n",
      " * * * * *\n"
     ]
    }
   ],
   "source": [
    "x = int(input('Masukkan angka :'))\n",
    "\n",
    "for y in range (0,x):\n",
    "    \n",
    "    for z in range (x-y):\n",
    "        print (end=' ')\n",
    "    print ('*',end='')\n",
    "\n",
    "    for z in range (y) :\n",
    "        print (\" *\",end=\"\")\n",
    "\n",
    "    print()"
   ]
  },
  {
   "cell_type": "code",
   "execution_count": 5,
   "metadata": {},
   "outputs": [
    {
     "name": "stdout",
     "output_type": "stream",
     "text": [
      "     1\n",
      "    1 1\n",
      "   1 2 1\n",
      "  1 3 3 1\n"
     ]
    }
   ],
   "source": [
    "n = int(input(\"Masukkan jumlah baris: \"))\n",
    " \n",
    "for i in range(1, n+1):\n",
    "    for j in range(0, n-i+1):\n",
    "        print(' ', end='')\n",
    "    C = 1\n",
    "    for j in range(1, i+1):\n",
    "\n",
    "        print(' ', C, sep='', end='')\n",
    "\n",
    "        C = C * (i - j) // j\n",
    "    print()\n"
   ]
  },
  {
   "cell_type": "code",
   "execution_count": 2,
   "metadata": {},
   "outputs": [
    {
     "name": "stdout",
     "output_type": "stream",
     "text": [
      " 1 5 10 10 5 1\n",
      " 1 + 5 + 10 + 10 + 5 + 1 = 32\n"
     ]
    }
   ],
   "source": [
    "i = int(input(\"Masukkan angka: \"))\n",
    "C = 1\n",
    "for j in range(1, i+1):\n",
    "\n",
    "\tprint(' ', C, sep='', end='')\n",
    "\n",
    "\tC = C * (i - j) // j\n",
    "print()\n",
    "\n",
    "\n",
    "C = 1\n",
    "for j in range(1, i):\n",
    "\n",
    "\tprint(' ', C, sep='', end=' +')\n",
    "\n",
    "\tC = C * (i - j) // j\n",
    "print(\"\", C, '=', (2**(i-1)))\n",
    "\n"
   ]
  },
  {
   "attachments": {},
   "cell_type": "markdown",
   "metadata": {},
   "source": [
    "<co>"
   ]
  }
 ],
 "metadata": {
  "kernelspec": {
   "display_name": "Python 3",
   "language": "python",
   "name": "python3"
  },
  "language_info": {
   "codemirror_mode": {
    "name": "ipython",
    "version": 3
   },
   "file_extension": ".py",
   "mimetype": "text/x-python",
   "name": "python",
   "nbconvert_exporter": "python",
   "pygments_lexer": "ipython3",
   "version": "3.11.5"
  },
  "orig_nbformat": 4,
  "vscode": {
   "interpreter": {
    "hash": "de47f5c92c0ee6f12a59a5613ac5feff6aab19ddff207ba0b3964cced08c4ccc"
   }
  }
 },
 "nbformat": 4,
 "nbformat_minor": 2
}
