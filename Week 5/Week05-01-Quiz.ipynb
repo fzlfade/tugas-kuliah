{
 "cells": [
  {
   "attachments": {},
   "cell_type": "markdown",
   "metadata": {},
   "source": [
    "<h2>Quiz on Nested-If</h2>"
   ]
  },
  {
   "cell_type": "code",
   "execution_count": 1,
   "metadata": {},
   "outputs": [
    {
     "name": "stdout",
     "output_type": "stream",
     "text": [
      "Wrong password!\n"
     ]
    }
   ],
   "source": [
    "username = input(\"Enter username: \")\n",
    "password = input(\"Enter password: \")\n",
    "\n",
    "if username == \"admin\":\n",
    "    if password == \"password\":\n",
    "        print(\"Welcome to the system!\", username)\n",
    "\n",
    "    elif password == \"12345\": \n",
    "        print(\"You have entered the default password. Please change it now!\")\n",
    "\n",
    "    else:\n",
    "        print(\"Wrong password!\")\n",
    "\n",
    "elif username == \"guest\":\n",
    "    if password == \"guest\": \n",
    "        print(\"Welcome to the system!\", username)\n",
    "\n",
    "    else:\n",
    "        print(\"Wrong password!\")\n",
    "\n",
    "else:\n",
    "    print(\"Unknown username!\")\n",
    "    \n"
   ]
  },
  {
   "attachments": {},
   "cell_type": "markdown",
   "metadata": {},
   "source": [
    "<h2>Quiz on Nested-If 2</h2>"
   ]
  },
  {
   "cell_type": "code",
   "execution_count": 2,
   "metadata": {},
   "outputs": [
    {
     "name": "stdout",
     "output_type": "stream",
     "text": [
      "9  = Bilangan Ganjil!\n"
     ]
    }
   ],
   "source": [
    "num = input(\"Enter a number: \")\n",
    "\n",
    "try:\n",
    "    num.isdigit()\n",
    "    num = int(num)\n",
    "\n",
    "    if num > 0:\n",
    "        if num % 2 == 0:\n",
    "            print(num,\" = Bilangan Genap!\")\n",
    "\n",
    "        else:\n",
    "            print(num,\" = Bilangan Ganjil!\")\n",
    "\n",
    "    elif num == 0:\n",
    "        print(\"Angka nol\")\n",
    "\n",
    "    else:\n",
    "        print(num,\" = Bilangan negatif\")\n",
    "except ValueError:\n",
    "    print(\"Bukan bilangan bulat!\")"
   ]
  },
  {
   "cell_type": "code",
   "execution_count": null,
   "metadata": {},
   "outputs": [],
   "source": []
  }
 ],
 "metadata": {
  "kernelspec": {
   "display_name": "Python 3",
   "language": "python",
   "name": "python3"
  },
  "language_info": {
   "codemirror_mode": {
    "name": "ipython",
    "version": 3
   },
   "file_extension": ".py",
   "mimetype": "text/x-python",
   "name": "python",
   "nbconvert_exporter": "python",
   "pygments_lexer": "ipython3",
   "version": "3.11.5"
  },
  "orig_nbformat": 4,
  "vscode": {
   "interpreter": {
    "hash": "de47f5c92c0ee6f12a59a5613ac5feff6aab19ddff207ba0b3964cced08c4ccc"
   }
  }
 },
 "nbformat": 4,
 "nbformat_minor": 2
}
