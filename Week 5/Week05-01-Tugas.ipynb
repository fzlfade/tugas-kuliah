{
 "cells": [
  {
   "attachments": {},
   "cell_type": "markdown",
   "metadata": {},
   "source": [
    "# <h2 id=\"quiz\">Weekly Exercise 1</h2>"
   ]
  },
  {
   "cell_type": "code",
   "execution_count": 41,
   "metadata": {},
   "outputs": [
    {
     "name": "stdout",
     "output_type": "stream",
     "text": [
      "2020  = Tahun kabisat\n"
     ]
    }
   ],
   "source": [
    "year = int(input(\"Enter a year: \"))\n",
    "\n",
    "if year % 4 == 0:\n",
    "        print(year,\" = Tahun kabisat\")\n",
    "\n",
    "else:\n",
    "        print(year,\" = Bukan tahun kabisat\")"
   ]
  },
  {
   "attachments": {},
   "cell_type": "markdown",
   "metadata": {},
   "source": [
    "<h2>Weekly Exercise 2</h2>"
   ]
  },
  {
   "cell_type": "code",
   "execution_count": 2,
   "metadata": {},
   "outputs": [
    {
     "name": "stdout",
     "output_type": "stream",
     "text": [
      "20  = Angka terbesar\n"
     ]
    }
   ],
   "source": [
    "angka1 = int(input(\"Masukkan Angka Pertama: \"))\n",
    "angka2 = int(input(\"Masukkan Angka Kedua: \"))\n",
    "angka3 = int(input(\"Masukkan Angka Ketiga: \"))\n",
    "\n",
    "if angka1 > angka2 and angka1 > angka3:\n",
    "    print(angka1,\" = Angka terbesar\")\n",
    "\n",
    "elif angka2 > angka1 and angka2 > angka3:\n",
    "    print(angka2, \" = Angka terbesar\")\n",
    "\n",
    "else:\n",
    "    print(angka3, \" = Angka terbesar\")"
   ]
  },
  {
   "attachments": {},
   "cell_type": "markdown",
   "metadata": {},
   "source": [
    "<h2> Weekly Exercise 3</h2>"
   ]
  },
  {
   "cell_type": "code",
   "execution_count": 45,
   "metadata": {},
   "outputs": [
    {
     "name": "stdout",
     "output_type": "stream",
     "text": [
      "Total yang harus dibayar:  188000.0\n"
     ]
    }
   ],
   "source": [
    "total_belanja = int(input(\"Total belanja: \"))\n",
    "customer = input(\"Tipe customer: \")\n",
    "\n",
    "\n",
    "if customer == \"member\":\n",
    "\n",
    "    if total_belanja >= 100000:\n",
    "        harga_bayar = total_belanja - ((total_belanja * 0.3) * 0.2)\n",
    "        print(\"Total yang harus dibayar: \", harga_bayar)\n",
    "\n",
    "    else:\n",
    "        total_belanja >= 200000\n",
    "        harga_bayar = total_belanja - ((total_belanja * 0.4) * 0.2)\n",
    "        print(\"Total yang harus dibayar: \", harga_bayar)\n",
    "else:\n",
    "\n",
    "    if total_belanja >= 100000:\n",
    "        harga_bayar = total_belanja - (total_belanja * 0.3)\n",
    "        print(\"Total yang harus dibayar: \", harga_bayar)\n",
    "\n",
    "    else:\n",
    "        total_belanja >= 200000\n",
    "        harga_bayar = total_belanja - (total_belanja * 0.4)\n",
    "        print(\"Total yang harus dibayar: \", harga_bayar)"
   ]
  },
  {
   "attachments": {},
   "cell_type": "markdown",
   "metadata": {},
   "source": [
    "<h2> Weekly Exercise 4</h2>"
   ]
  },
  {
   "cell_type": "code",
   "execution_count": 5,
   "metadata": {},
   "outputs": [
    {
     "name": "stdout",
     "output_type": "stream",
     "text": [
      "Akun berhasil dibuat!\n"
     ]
    }
   ],
   "source": [
    "username = input(\"Enter username: \")\n",
    "password = input(\"Enter password: \")\n",
    "email = input(\"Enter email: \")\n",
    "\n",
    "if username == \"\" or password == \"\" or email == \"\":\n",
    "    print(\"Data tidak boleh kosong!\")\n",
    "\n",
    "elif len(password) < 8:\n",
    "    print(\"Password harus memiliki 8 karakter!\")\n",
    "\n",
    "elif \"@\" not in email:\n",
    "    print(\"Email harus memiliki @!\")\n",
    "\n",
    "else :\n",
    "    print(\"Akun berhasil dibuat!\") "
   ]
  },
  {
   "cell_type": "code",
   "execution_count": null,
   "metadata": {},
   "outputs": [],
   "source": []
  }
 ],
 "metadata": {
  "kernelspec": {
   "display_name": "Python 3",
   "language": "python",
   "name": "python3"
  },
  "language_info": {
   "codemirror_mode": {
    "name": "ipython",
    "version": 3
   },
   "file_extension": ".py",
   "mimetype": "text/x-python",
   "name": "python",
   "nbconvert_exporter": "python",
   "pygments_lexer": "ipython3",
   "version": "3.11.5"
  },
  "orig_nbformat": 4,
  "vscode": {
   "interpreter": {
    "hash": "de47f5c92c0ee6f12a59a5613ac5feff6aab19ddff207ba0b3964cced08c4ccc"
   }
  }
 },
 "nbformat": 4,
 "nbformat_minor": 2
}
