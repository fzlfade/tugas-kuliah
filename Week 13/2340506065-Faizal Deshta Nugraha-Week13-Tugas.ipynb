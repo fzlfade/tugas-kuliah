{
 "cells": [
  {
   "cell_type": "code",
   "execution_count": 2,
   "metadata": {},
   "outputs": [
    {
     "name": "stdout",
     "output_type": "stream",
     "text": [
      "--------------Toko Gw--------------\n",
      "Nama\t\t\t: Ballpoint\n",
      "Stock\t\t\t: 10\n",
      "Harga Satuan\t\t: 2000\n",
      "Harga\t\t\t: 20000\n",
      "\n",
      "\n",
      "Nama\t\t\t: Pensil\n",
      "Stock\t\t\t: 10\n",
      "Harga Satuan\t\t: 1000\n",
      "Harga\t\t\t: 10000\n",
      "\n",
      "\n",
      "Nama\t\t\t: Penghapus\n",
      "Stock\t\t\t: 10\n",
      "Harga Satuan\t\t: 500\n",
      "Harga\t\t\t: 5000\n",
      "\n",
      "\n",
      "--------------After Restock--------------\n",
      "Nama\t\t\t: Ballpoint\n",
      "Stock\t\t\t: 20\n",
      "Harga\t\t\t: 40000\n"
     ]
    }
   ],
   "source": [
    "class Atk:\n",
    "    def __init__(self, nama, stock, hargaSatuan):\n",
    "        self.nama = nama\n",
    "        self.stock = stock\n",
    "        self.hargaSatuan = hargaSatuan\n",
    "        self.harga = self.hargaSatuan * self.stock\n",
    "\n",
    "    def setNama(self, nama):\n",
    "        self.nama = nama\n",
    "\n",
    "    def setStock(self, stock):\n",
    "        self.stock = stock\n",
    "        self.harga = self.hargaSatuan * self.stock\n",
    "\n",
    "    def setHargaSatuan(self, hargaSatuan):\n",
    "        self.hargaSatuan = hargaSatuan\n",
    "        self.harga = self.hargaSatuan * self.stock\n",
    "    \n",
    "    def getNama(self):\n",
    "        return self.nama\n",
    "    \n",
    "    def getStock(self):\n",
    "        return self.stock\n",
    "    \n",
    "    def getHargaSatuan(self):\n",
    "        return self.hargaSatuan\n",
    "    \n",
    "    def getHarga(self):\n",
    "        return self.harga\n",
    "    \n",
    "ballpoint = Atk(\"Ballpoint\", 10, 2000)\n",
    "pensil = Atk(\"Pensil\", 10, 1000)\n",
    "penghapus = Atk(\"Penghapus\", 10, 500)\n",
    "\n",
    "print(\"--------------Toko Gw--------------\")\n",
    "for x in (ballpoint, pensil, penghapus):\n",
    "    print(\"Nama\\t\\t\\t:\", x.getNama())\n",
    "    print(\"Stock\\t\\t\\t:\", x.getStock())\n",
    "    print(\"Harga Satuan\\t\\t:\", x.getHargaSatuan())\n",
    "    print(\"Harga\\t\\t\\t:\", x.getHarga())\n",
    "    print(\"\\n\")\n",
    "\n",
    "ballpoint.setStock(20)\n",
    "print(\"--------------After Restock--------------\")\n",
    "print(\"Nama\\t\\t\\t:\", ballpoint.getNama())\n",
    "print(\"Stock\\t\\t\\t:\", ballpoint.getStock())\n",
    "print(\"Harga\\t\\t\\t:\", ballpoint.getHarga())"
   ]
  },
  {
   "cell_type": "code",
   "execution_count": 1,
   "metadata": {},
   "outputs": [
    {
     "name": "stdout",
     "output_type": "stream",
     "text": [
      "Ford\n",
      "Mustang\n",
      "Move!\n",
      "Ibiza\n",
      "Touring 20\n",
      "Sail!\n",
      "Boeing\n",
      "747\n",
      "Fly!\n"
     ]
    }
   ],
   "source": [
    "class Vehicle:\n",
    "  def __init__(self, brand, model):\n",
    "    self.brand = brand\n",
    "    self.model = model\n",
    "\n",
    "  def move(self):\n",
    "    print(\"Move!\")\n",
    "\n",
    "class Car(Vehicle):\n",
    "  pass\n",
    "\n",
    "class Boat(Vehicle):\n",
    "  def move(self):\n",
    "    print(\"Sail!\")\n",
    "\n",
    "class Plane(Vehicle):\n",
    "  def move(self):\n",
    "    print(\"Fly!\")\n",
    "\n",
    "car1 = Car(\"Ford\", \"Mustang\")\n",
    "boat1 = Boat(\"Ibiza\", \"Touring 20\")\n",
    "plane1 = Plane(\"Boeing\", \"747\")\n",
    "\n",
    "for x in (car1, boat1, plane1):\n",
    "  print(x.brand)\n",
    "  print(x.model)\n",
    "  x.move()"
   ]
  },
  {
   "cell_type": "code",
   "execution_count": null,
   "metadata": {},
   "outputs": [],
   "source": []
  }
 ],
 "metadata": {
  "kernelspec": {
   "display_name": "Python 3",
   "language": "python",
   "name": "python3"
  },
  "language_info": {
   "codemirror_mode": {
    "name": "ipython",
    "version": 3
   },
   "file_extension": ".py",
   "mimetype": "text/x-python",
   "name": "python",
   "nbconvert_exporter": "python",
   "pygments_lexer": "ipython3",
   "version": "3.11.5"
  },
  "orig_nbformat": 4
 },
 "nbformat": 4,
 "nbformat_minor": 2
}
