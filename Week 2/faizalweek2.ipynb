{
 "cells": [
  {
   "cell_type": "markdown",
   "id": "089172e9",
   "metadata": {},
   "source": [
    "## <h3 id=\"WeeklyExercise1\">Weekly Exercise 1</h3>"
   ]
  },
  {
   "cell_type": "code",
   "execution_count": null,
   "id": "f5833533-5096-49f1-90c4-5457efb909a0",
   "metadata": {
    "tags": []
   },
   "outputs": [
    {
     "name": "stdout",
     "output_type": "stream",
     "text": [
      "Panjang =  20.5\n",
      "Lebar =  25\n",
      "Tinggi =  10\n",
      "Keliling =  91.0\n",
      "Volume =  5125.0\n"
     ]
    }
   ],
   "source": [
    "panjang = 20.5\n",
    "lebar = 25\n",
    "tinggi = 10\n",
    "\n",
    "keliling = 2 * (panjang+lebar)\n",
    "luas = panjang * lebar\n",
    "volume = panjang * lebar * tinggi\n",
    "\n",
    "print(\"Panjang = \",  panjang)\n",
    "print(\"Lebar = \",  lebar)\n",
    "print(\"Tinggi = \",  tinggi)\n",
    "print(\"Keliling = \",  keliling)\n",
    "print(\"Volume = \",  volume)\n"
   ]
  },
  {
   "cell_type": "markdown",
   "id": "15783036",
   "metadata": {},
   "source": [
    "## <h3 id=\"WeeklyExercise1\">Weekly Exercise 2</h3>"
   ]
  },
  {
   "cell_type": "code",
   "execution_count": 15,
   "id": "e383419e-09a5-4e0f-a29e-45f0d00c457e",
   "metadata": {},
   "outputs": [
    {
     "name": "stdout",
     "output_type": "stream",
     "text": [
      "Nilai Rata Rata Shafira =  80.0\n",
      "Jumlah Nilai Hanif Dan Andi =  310\n",
      "Rata-rata nilai Widya, Dhanar, Hikma dan Nedia pada matkul Kalkulus 1 = 86.25\n",
      "Rata-rata nilai Widya, Dhanar, Hikma dan Nedia pada matkul Metode Statistika = 81.25\n",
      "Rata-rata nilai mata kuliah Kalkulus 1 untuk semua mahasiswa = 81.11111111111111\n",
      "Rata-rata nilai mata kuliah Metode Statistika untuk semua mahasiswa= 81.66666666666667\n"
     ]
    }
   ],
   "source": [
    "#Rata-rata nilai Shafira pada kedua mata kuliah\n",
    "rataratashafira = ( 85 + 75 ) / 2\n",
    "print(\"Nilai Rata Rata Shafira = \", rataratashafira)\n",
    "\n",
    "#Jumlah nilai Hanif dan Andi untuk semua mata kuliah\n",
    "hanif = 75 + 90\n",
    "andi = 70 + 75\n",
    "jmlandihanif = hanif + andi\n",
    "print(\"Jumlah Nilai Hanif Dan Andi = \", jmlandihanif)\n",
    "\n",
    "#Rata-rata nilai Widya, Dhanar, Hikma dan Nedia pada masing-masing mata kuliah\n",
    "WidyaK1 = 85\n",
    "DhanarK1 = 85\n",
    "HikmaK1 = 80\n",
    "NediaK1 = 95\n",
    "\n",
    "ratarataWDHNk1 = (WidyaK1 + DhanarK1 + HikmaK1 + NediaK1) / 4\n",
    "\n",
    "WidyaMS = 85\n",
    "DhanarMS = 85\n",
    "HikmaMS = 75\n",
    "NediaMS = 80\n",
    "\n",
    "ratarataWDHNms = (WidyaMS + DhanarMS + HikmaMS + NediaMS) / 4\n",
    "\n",
    "print(\"Rata-rata nilai Widya, Dhanar, Hikma dan Nedia pada matkul Kalkulus 1 =\", ratarataWDHNk1)\n",
    "print(\"Rata-rata nilai Widya, Dhanar, Hikma dan Nedia pada matkul Metode Statistika =\", ratarataWDHNms)\n",
    "\n",
    "#Rata-rata nilai mata kuliah Kalkulus 1 untuk semua mahasiswa\n",
    "kalkulus1 = (85 + 80 + 75 + 95 + 85 + 75 + 70 + 85 + 80) / 9\n",
    "print(\"Rata-rata nilai mata kuliah Kalkulus 1 untuk semua mahasiswa =\", kalkulus1)\n",
    "\n",
    "#Rata-rata nilai mata kuliah Metode Statistika untuk semua mahasiswa\n",
    "metodestatistika= (75 + 90 + 80 + 80 + 85 + 90 + 75 + 85 + 75) / 9\n",
    "print(\"Rata-rata nilai mata kuliah Metode Statistika untuk semua mahasiswa=\", metodestatistika)"
   ]
  },
  {
   "cell_type": "markdown",
   "id": "e395ab56",
   "metadata": {},
   "source": [
    "## <h3 id=\"WeeklyExercise1\">Weekly Exercise 3</h3>"
   ]
  },
  {
   "cell_type": "code",
   "execution_count": 24,
   "id": "5d11200f",
   "metadata": {},
   "outputs": [
    {
     "name": "stdout",
     "output_type": "stream",
     "text": [
      "Gaji pada bulan Agustus jika Dwi tidak masuk kerja selama 3 hari =  6720000\n",
      "Jumlah tunjangan yang diterima oleh Dwi pada bulan Agustus =  744000\n",
      "Gaji total yang diterima oleh Dwi pada bulan Agustus + Gaji Lembur = 8990000\n"
     ]
    }
   ],
   "source": [
    "dwibekerjatahun = 3650\n",
    "dwibekerjasehari = 8 \n",
    "bekerjasejam = 30000\n",
    "agustus = 31\n",
    "tunjangan5thn = 0.1\n",
    "gajiselamablnagustus = agustus * dwibekerjasehari * bekerjasejam \n",
    "\n",
    "#Gaji pada bulan Agustus jika Dwi tidak masuk kerja selama 3 hari, berapa gaji yang diterima oleh Dwi\n",
    "\n",
    "gajiselamablnagustus3haricuti = (agustus - 3) * dwibekerjasehari *  bekerjasejam \n",
    "print(\"Gaji pada bulan Agustus jika Dwi tidak masuk kerja selama 3 hari = \", gajiselamablnagustus3haricuti)\n",
    "\n",
    "#tentukan jumlah tunjangan yang diterima oleh Dwi pada bulan Agustus\n",
    "tunjangan = gajiselamablnagustus * tunjangan5thn\n",
    "print(\"Jumlah tunjangan yang diterima oleh Dwi pada bulan Agustus = \", int(tunjangan))\n",
    "\n",
    "#Apabila pada bulan Agustus Dwi mendapatkan tugas lembur selama 5 jam, tentukan gaji total yang diterima oleh Dwi pada bulan Agustus. (upah lembur : Rp 10.000,- per jam)\n",
    "jamlembur = 5\n",
    "upahlembur = 10000\n",
    "gajilembur = agustus * jamlembur * upahlembur\n",
    "totalgajilembur = gajilembur + gajiselamablnagustus\n",
    "print(\"Gaji total yang diterima oleh Dwi pada bulan Agustus + Gaji Lembur =\", totalgajilembur)"
   ]
  }
 ],
 "metadata": {
  "kernelspec": {
   "display_name": "base",
   "language": "python",
   "name": "python3"
  },
  "language_info": {
   "codemirror_mode": {
    "name": "ipython",
    "version": 3
   },
   "file_extension": ".py",
   "mimetype": "text/x-python",
   "name": "python",
   "nbconvert_exporter": "python",
   "pygments_lexer": "ipython3",
   "version": "3.11.4"
  },
  "vscode": {
   "interpreter": {
    "hash": "3c06e3e46abf38078fe4dac36a0085ec2b134ebbd73dd076183d243eeca6918f"
   }
  }
 },
 "nbformat": 4,
 "nbformat_minor": 5
}
