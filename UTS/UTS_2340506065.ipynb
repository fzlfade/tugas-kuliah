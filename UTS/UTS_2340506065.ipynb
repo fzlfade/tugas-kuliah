{
 "cells": [
  {
   "cell_type": "code",
   "execution_count": 4,
   "metadata": {},
   "outputs": [
    {
     "ename": "ValueError",
     "evalue": "invalid literal for int() with base 10: ''",
     "output_type": "error",
     "traceback": [
      "\u001b[1;31m---------------------------------------------------------------------------\u001b[0m",
      "\u001b[1;31mValueError\u001b[0m                                Traceback (most recent call last)",
      "\u001b[1;32me:\\Tugas Kampus\\Praktikum APSD\\Python\\UTS\\UTS_2340506065.ipynb Cell 1\u001b[0m line \u001b[0;36m7\n\u001b[0;32m      <a href='vscode-notebook-cell:/e%3A/Tugas%20Kampus/Praktikum%20APSD/Python/UTS/UTS_2340506065.ipynb#W0sZmlsZQ%3D%3D?line=4'>5</a>\u001b[0m alamat \u001b[39m=\u001b[39m \u001b[39minput\u001b[39m(\u001b[39m\"\u001b[39m\u001b[39mAlamat Pasien:\u001b[39m\u001b[39m\"\u001b[39m)\n\u001b[0;32m      <a href='vscode-notebook-cell:/e%3A/Tugas%20Kampus/Praktikum%20APSD/Python/UTS/UTS_2340506065.ipynb#W0sZmlsZQ%3D%3D?line=5'>6</a>\u001b[0m anggota \u001b[39m=\u001b[39m \u001b[39minput\u001b[39m(\u001b[39m\"\u001b[39m\u001b[39mAnggota BPJS: (y/n)\u001b[39m\u001b[39m\"\u001b[39m)\n\u001b[1;32m----> <a href='vscode-notebook-cell:/e%3A/Tugas%20Kampus/Praktikum%20APSD/Python/UTS/UTS_2340506065.ipynb#W0sZmlsZQ%3D%3D?line=6'>7</a>\u001b[0m lama \u001b[39m=\u001b[39m \u001b[39mint\u001b[39;49m(\u001b[39minput\u001b[39;49m(\u001b[39m\"\u001b[39;49m\u001b[39mLama Menginap\u001b[39;49m\u001b[39m\"\u001b[39;49m))\n\u001b[0;32m      <a href='vscode-notebook-cell:/e%3A/Tugas%20Kampus/Praktikum%20APSD/Python/UTS/UTS_2340506065.ipynb#W0sZmlsZQ%3D%3D?line=7'>8</a>\u001b[0m tipe \u001b[39m=\u001b[39m \u001b[39minput\u001b[39m(\u001b[39m\"\u001b[39m\u001b[39mTipe Kelas Kamar (1/2/3)\u001b[39m\u001b[39m\"\u001b[39m)\n\u001b[0;32m     <a href='vscode-notebook-cell:/e%3A/Tugas%20Kampus/Praktikum%20APSD/Python/UTS/UTS_2340506065.ipynb#W0sZmlsZQ%3D%3D?line=9'>10</a>\u001b[0m \u001b[39mif\u001b[39;00m anggota \u001b[39m==\u001b[39m \u001b[39m\"\u001b[39m\u001b[39my\u001b[39m\u001b[39m\"\u001b[39m:\n",
      "\u001b[1;31mValueError\u001b[0m: invalid literal for int() with base 10: ''"
     ]
    }
   ],
   "source": [
    "nama = input(\"Nama Pasien:\")\n",
    "alamat = input(\"Alamat Pasien:\")\n",
    "anggota = input(\"Anggota BPJS: (y/n)\")\n",
    "lama = int(input(\"Lama Menginap\"))\n",
    "tipe = input(\"Tipe Kelas Kamar (1/2/3)\")\n",
    "\n",
    "if anggota == \"y\":\n",
    "    if tipe == \"1\":\n",
    "        harga = 800000\n",
    "    elif tipe == \"2\":\n",
    "        harga = 500000\n",
    "    elif tipe == \"3\":\n",
    "        harga = 200000\n",
    "    else:\n",
    "        print(\"Tipe Kamar Tidak Ditemukan!\")\n",
    "    \n",
    "    diskon = harga * 0.15\n",
    "    harga = harga - diskon\n",
    "\n",
    "elif anggota == \"n\":\n",
    "    if tipe == \"1\":\n",
    "        harga = 800000\n",
    "    elif tipe == \"2\":\n",
    "        harga = 500000\n",
    "    elif tipe == \"3\":\n",
    "        harga = 200000\n",
    "    else:\n",
    "        print(\"Tipe Kamar Tidak Ditemukan!\")\n",
    "\n",
    "else:\n",
    "    print(\"Format pengisian salah!\")\n",
    "\n",
    "\n",
    "total = harga * lama\n",
    "\n",
    "print(\"Nama Pasien: \", nama)\n",
    "print(\"Alamat: \", alamat)\n",
    "print(\"Anggota BPJS?: \", anggota)\n",
    "print(\"Lama Menginap: \", lama , \"Hari\")\n",
    "print(\"Tipe Kelas Kamar: \", tipe)\n",
    "print(\"Total Harga: Rp.\",int(total))"
   ]
  },
  {
   "cell_type": "code",
   "execution_count": null,
   "metadata": {},
   "outputs": [],
   "source": []
  },
  {
   "cell_type": "code",
   "execution_count": null,
   "metadata": {},
   "outputs": [],
   "source": []
  }
 ],
 "metadata": {
  "kernelspec": {
   "display_name": "Python 3",
   "language": "python",
   "name": "python3"
  },
  "language_info": {
   "codemirror_mode": {
    "name": "ipython",
    "version": 3
   },
   "file_extension": ".py",
   "mimetype": "text/x-python",
   "name": "python",
   "nbconvert_exporter": "python",
   "pygments_lexer": "ipython3",
   "version": "3.11.5"
  },
  "orig_nbformat": 4
 },
 "nbformat": 4,
 "nbformat_minor": 2
}
