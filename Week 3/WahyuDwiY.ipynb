{
 "cells": [
  {
   "cell_type": "code",
   "execution_count": 1,
   "id": "729f1d57-911b-434b-b5a3-49f12d14e349",
   "metadata": {
    "tags": []
   },
   "outputs": [
    {
     "data": {
      "text/plain": [
       "'H:/Teknologi Informasi/Wahyu Dwi.txt'"
      ]
     },
     "execution_count": 1,
     "metadata": {},
     "output_type": "execute_result"
    }
   ],
   "source": [
    "example1 =\"H:/Teknologi Informasi/Wahyu Dwi.txt\"\n",
    "file1 = open(example1, \"r\")\n",
    "file1.name"
   ]
  },
  {
   "cell_type": "code",
   "execution_count": 2,
   "id": "92faab56-158b-48c3-b5b6-ce12a93aa83e",
   "metadata": {
    "tags": []
   },
   "outputs": [
    {
     "data": {
      "text/plain": [
       "'r'"
      ]
     },
     "execution_count": 2,
     "metadata": {},
     "output_type": "execute_result"
    }
   ],
   "source": [
    "file1.mode"
   ]
  },
  {
   "cell_type": "code",
   "execution_count": 3,
   "id": "adb59f0c-f9c8-4eab-acfa-6a5877c83dc6",
   "metadata": {
    "tags": []
   },
   "outputs": [
    {
     "data": {
      "text/plain": [
       "'Nama          : Wahyu Dwi Yulianto\\nProgram Studi : S1 Teknologi Informasi \\nNPM           : 2340506056\\nAlamat        : Jl.raya Bandongan Krajan RT 02 RW 02 Bandongan \\nHobi          : Traveling\\nEmail         : wahyu.dwi8742@gmail.com'"
      ]
     },
     "execution_count": 3,
     "metadata": {},
     "output_type": "execute_result"
    }
   ],
   "source": [
    "FileContent = file1.read()\n",
    "FileContent"
   ]
  },
  {
   "cell_type": "code",
   "execution_count": 25,
   "id": "8cd3b3df-b027-4813-bda6-359f889e9f4e",
   "metadata": {
    "tags": []
   },
   "outputs": [
    {
     "name": "stdout",
     "output_type": "stream",
     "text": [
      "Nama          : Wahyu Dwi Yulianto\n",
      "\n",
      "Program Studi : S1 Teknologi Informasi\n",
      "\n",
      "Email         : wahyu.dwi8742@gmail.com\n",
      "\n"
     ]
    }
   ],
   "source": [
    "type(FileContent)\n",
    "file1.close()\n",
    "with open(example1, \"r\") as file1:\n",
    "    Fileaslist = file1.readlines()\n",
    "    print(Fileaslist[0])\n",
    "    print(Fileaslist[1])\n",
    "    print(Fileaslist[5])\n"
   ]
  },
  {
   "cell_type": "code",
   "execution_count": 26,
   "id": "fd0b1aa8-e095-45d6-bc35-4b26b0d0690e",
   "metadata": {
    "tags": []
   },
   "outputs": [],
   "source": [
    "with open(\"H:/Teknologi Informasi/Wahyu Dwi.txt\", 'w') as writefile:\n",
    "    writefile.write(\"Nama          : Wahyu Dwi Yulianto\\n\")\n",
    "    writefile.write(\"NPM           : 2340506056\\n\")\n",
    "    writefile.write(\"Program Studi : S1 Teknologi Informasi\\n\")\n",
    "    writefile.write(\"Alamat        : Jl.raya Bandongan Krajan RT 02 RW 02 Bandongan\\n\")\n"
   ]
  },
  {
   "cell_type": "code",
   "execution_count": 15,
   "id": "c867c24a-9c47-4fd1-917d-eb66628eaa2a",
   "metadata": {
    "tags": []
   },
   "outputs": [
    {
     "name": "stdout",
     "output_type": "stream",
     "text": [
      "Selamat datang di Toko Maju Jaya\n",
      "Senin, 4 September 2023       13.05\n",
      " \n",
      "DAFTAR BELANJA:\n",
      "Sabun  = Rp  10000\n",
      "Shampo  = Rp  15000\n",
      "Mie instant  = Rp  5000\n",
      "Detergen  = Rp  17500\n",
      " \n",
      "Total = Rp  47500\n"
     ]
    }
   ],
   "source": [
    "print (\"Selamat datang di Toko Maju Jaya\")\n",
    "print (\"Senin, 4 September 2023       13.05\")\n",
    "print(\" \")\n",
    "\n",
    "print (\"DAFTAR BELANJA:\")\n",
    "item1 = 'Sabun'\n",
    "item2 = 'Shampo'\n",
    "item3 = 'Mie instant'\n",
    "item4 = 'Detergen'\n",
    "harga1 = 10000\n",
    "harga2 = 15000\n",
    "harga3 = 5000\n",
    "harga4 = 17500\n",
    "\n",
    "total = harga1+harga2+harga3+harga4\n",
    "\n",
    "print(item1 , \" = Rp \" , harga1)\n",
    "print(item2 , \" = Rp \" , harga2)\n",
    "print(item3 , \" = Rp \" , harga3)\n",
    "print(item4 , \" = Rp \" , harga4)\n",
    "\n",
    "print(\" \")\n",
    "print(\"Total\" \" = Rp \", total)\n",
    "\n",
    "with open('Kuitansi.txt',\"w\") as writefile:\n",
    "        writefile.write(\"Selamat Datang di Toko Maju Jaya\\n\")\n",
    "        writefile.write(\" \\n\")\n",
    "        writefile.write(\"Kuitansi - 4 Septermber 2023\\n\")\n",
    "        writefile.write(\" \\n\")\n",
    "        writefile.write('item1+\" = Rp \" harga1+\"\\n\"')\n",
    "        writefile.write('item2+\" = Rp \" harga2+\"\\n\"')\n",
    "        writefile.write('item3+\" = Rp \" harga3+\"\\n\"')\n",
    "        writefile.write('item4+\" = Rp \" harga4+\"\\n\"')\n",
    "        writefile.write(\" \\n\")\n",
    "        writefile.write('Total Belanja =\"+total')"
   ]
  },
  {
   "cell_type": "code",
   "execution_count": 1,
   "id": "7c3a8e5d-cbc0-475a-99bf-772aabea4d47",
   "metadata": {},
   "outputs": [
    {
     "name": "stdout",
     "output_type": "stream",
     "text": [
      "Emil Refsnes\n"
     ]
    }
   ],
   "source": [
    "def my_function(fname, lname):\n",
    "  print(fname + \" \" + lname)\n",
    "\n",
    "my_function(\"Emil\", \"Refsnes\")"
   ]
  },
  {
   "cell_type": "code",
   "execution_count": null,
   "id": "f968adab",
   "metadata": {},
   "outputs": [],
   "source": []
  }
 ],
 "metadata": {
  "kernelspec": {
   "display_name": "base",
   "language": "python",
   "name": "python3"
  },
  "language_info": {
   "codemirror_mode": {
    "name": "ipython",
    "version": 3
   },
   "file_extension": ".py",
   "mimetype": "text/x-python",
   "name": "python",
   "nbconvert_exporter": "python",
   "pygments_lexer": "ipython3",
   "version": "3.11.4"
  },
  "vscode": {
   "interpreter": {
    "hash": "3c06e3e46abf38078fe4dac36a0085ec2b134ebbd73dd076183d243eeca6918f"
   }
  }
 },
 "nbformat": 4,
 "nbformat_minor": 5
}
