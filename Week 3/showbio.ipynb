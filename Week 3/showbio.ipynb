{
 "cells": [
  {
   "cell_type": "markdown",
   "metadata": {},
   "source": [
    "<h3 id=\"WeeklyExercise1\">Weekly Exercise 1</h3>"
   ]
  },
  {
   "cell_type": "code",
   "execution_count": 4,
   "metadata": {},
   "outputs": [
    {
     "data": {
      "text/plain": [
       "'biodata.txt'"
      ]
     },
     "execution_count": 4,
     "metadata": {},
     "output_type": "execute_result"
    }
   ],
   "source": [
    "readbio= \"biodata.txt\"\n",
    "file1 = open(readbio, \"r\")\n",
    "\n",
    "file1.name\n",
    "    "
   ]
  },
  {
   "cell_type": "code",
   "execution_count": 1,
   "metadata": {},
   "outputs": [
    {
     "name": "stdout",
     "output_type": "stream",
     "text": [
      "Nama : Faizal Deshta Nugraha\n",
      "\n",
      "Program Studi : Teknologi Informasi\n",
      "\n",
      "Email : faizal210505@gmail.com\n"
     ]
    }
   ],
   "source": [
    "readbio= \"biodata.txt\"\n",
    "file1 = open(readbio, \"r\")\n",
    "FileContent = file1.read\n",
    "\n",
    "file1.close()\n",
    "with open(readbio, \"r\") as file1:\n",
    "    Fileaslist = file1.readlines()\n",
    "    print(Fileaslist[0])\n",
    "    print(Fileaslist[1])\n",
    "    print(Fileaslist[5])"
   ]
  },
  {
   "cell_type": "code",
   "execution_count": 6,
   "metadata": {},
   "outputs": [],
   "source": [
    "with open(r\"biodata.txt\", \"r\") as readfile:\n",
    " with open(r\"biodata2.txt\", \"w\") as writefile2:\n",
    "    fileaslist = readfile.readlines()\n",
    "    writefile2.write(fileaslist[0])\n",
    "    writefile2.write(fileaslist[2])\n",
    "    writefile2.write(fileaslist[1])\n",
    "    writefile2.write(fileaslist[3])"
   ]
  },
  {
   "cell_type": "markdown",
   "metadata": {},
   "source": [
    "<h3 id=\"WeeklyExercise1\">Weekly Exercise 2</h3>"
   ]
  },
  {
   "cell_type": "code",
   "execution_count": 7,
   "metadata": {},
   "outputs": [
    {
     "name": "stdout",
     "output_type": "stream",
     "text": [
      "Selamat datang di Toko Maju Jaya\n",
      "Senin, 4 September 2023,       13.05\n",
      "DAFTAR BELANJA:\n",
      "Sabun = Rp 10000\n",
      "Shampo = Rp 15000\n",
      "Mie instant = Rp 5000\n",
      "Detergen = Rp 17500\n",
      "Total = Rp  47500\n"
     ]
    }
   ],
   "source": [
    "print(\"Selamat datang di Toko Maju Jaya\")\n",
    "print(\"Senin, 4 September 2023,       13.05\")\n",
    "\n",
    "print(\"DAFTAR BELANJA:\")\n",
    "item1 = \"Sabun\"\n",
    "item2 = \"Shampo\"\n",
    "item3 = \"Mie instant\"\n",
    "item4 = \"Detergen\"\n",
    "harga1 = 10000\n",
    "harga2 = 15000\n",
    "harga3 = 5000\n",
    "harga4 = 17500\n",
    "\n",
    "\n",
    "\n",
    "total = harga1+harga2+harga3+harga4\n",
    "\n",
    "print(item1,\"= Rp\", harga1)\n",
    "print(item2,\"= Rp\", harga2)\n",
    "print(item3,\"= Rp\", harga3)\n",
    "print(item4,\"= Rp\", harga4)\n",
    "\n",
    "print(\"Total = Rp \",total)\n",
    "\n",
    "\n",
    "with open('Kuitansi.txt', 'w') as writefile:\n",
    "        writefile.write(\"Selamat Datang di Toko Maju Jaya\\n\")\n",
    "        writefile.write(\" \\n\")\n",
    "        writefile.write(\"Kuitansi - 4 September 2023\\n\")\n",
    "        writefile.write(\" \\n\")\n",
    "        writefile.write(item1+\" = Rp \" +str(harga1)+\"\\n\")\n",
    "        writefile.write(item2+\" = Rp \" +str(harga2)+\"\\n\")\n",
    "        writefile.write(item3+\" = Rp \" +str(harga3)+\"\\n\")\n",
    "        writefile.write(item4+\" = Rp \" +str(harga4)+\"\\n\")\n",
    "        writefile.write(\" \\n\")\n",
    "        writefile.write(\"Total Belanja = \"+str(total))"
   ]
  },
  {
   "cell_type": "code",
   "execution_count": null,
   "metadata": {},
   "outputs": [],
   "source": []
  }
 ],
 "metadata": {
  "kernelspec": {
   "display_name": "base",
   "language": "python",
   "name": "python3"
  },
  "language_info": {
   "codemirror_mode": {
    "name": "ipython",
    "version": 3
   },
   "file_extension": ".py",
   "mimetype": "text/x-python",
   "name": "python",
   "nbconvert_exporter": "python",
   "pygments_lexer": "ipython3",
   "version": "3.11.4"
  },
  "orig_nbformat": 4,
  "vscode": {
   "interpreter": {
    "hash": "3c06e3e46abf38078fe4dac36a0085ec2b134ebbd73dd076183d243eeca6918f"
   }
  }
 },
 "nbformat": 4,
 "nbformat_minor": 2
}
