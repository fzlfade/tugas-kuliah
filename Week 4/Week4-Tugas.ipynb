{
 "cells": [
  {
   "cell_type": "code",
   "execution_count": 5,
   "metadata": {},
   "outputs": [
    {
     "name": "stdout",
     "output_type": "stream",
     "text": [
      "18\n",
      "Boleh membuat SIM\n"
     ]
    }
   ],
   "source": [
    "age = input('Input Umur')\n",
    "\n",
    "if int(age) >= 17:\n",
    "    print(age)\n",
    "    print(\"Boleh membuat SIM\")\n",
    "\n",
    "else:\n",
    " print(\"Tidak boleh membuat SIM\")\n"
   ]
  },
  {
   "cell_type": "code",
   "execution_count": 6,
   "metadata": {},
   "outputs": [
    {
     "name": "stdout",
     "output_type": "stream",
     "text": [
      "Grade = A\n"
     ]
    }
   ],
   "source": [
    "nilai = input('Input Nilai')\n",
    "\n",
    "if int(nilai) >= 90:\n",
    "    print('Grade = A')\n",
    "\n",
    "elif int(nilai) >= 80:\n",
    "    print('Grade = B+')\n",
    "\n",
    "elif int(nilai) >= 70:\n",
    "    print('Grade = B')\n",
    "\n",
    "elif int(nilai) >= 60:\n",
    "    print('Grade = C+')\n",
    "\n",
    "elif int(nilai) >= 50:\n",
    "    print('Grade = C')\n",
    "\n",
    "elif int(nilai) >= 40:\n",
    "    print('Grade = D')\n",
    "\n",
    "else:\n",
    "    print('Grade = E')\n"
   ]
  },
  {
   "cell_type": "code",
   "execution_count": 7,
   "metadata": {},
   "outputs": [
    {
     "name": "stdout",
     "output_type": "stream",
     "text": [
      "Nilai Anda =  77.8\n",
      "Grade = A-\n"
     ]
    }
   ],
   "source": [
    "nilai2 = float(input('Input Nilai'))\n",
    "print(\"Nilai Anda = \",nilai2)\n",
    "\n",
    "if nilai2 >= 80:\n",
    "    print('Grade = A')\n",
    "\n",
    "elif nilai2 >= 77.50:\n",
    "    print('Grade = A-')\n",
    "\n",
    "elif nilai2 >= 75:\n",
    "    print('Grade = A/B')\n",
    "\n",
    "elif nilai2 >= 72.50:\n",
    "    print('Grade = B+')\n",
    "\n",
    "elif nilai2 >= 70:\n",
    "    print('Grade = B')\n",
    "\n",
    "elif nilai2 >= 67.50:\n",
    "    print('Grade = B-')\n",
    "\n",
    "elif nilai2 >= 65:\n",
    "    print('Grade = B/C')\n",
    "\n",
    "elif nilai2 >= 62.50:\n",
    "    print('Grade = C+')\n",
    "\n",
    "elif nilai2 >= 60:\n",
    "    print('Grade = C')\n",
    "\n",
    "elif nilai2 >= 55:\n",
    "    print('Grade = C-')\n",
    "\n",
    "elif nilai2 >= 50:\n",
    "    print('Grade = C/D')\n",
    "\n",
    "elif nilai2 >= 45:\n",
    "    print('Grade = D+')\n",
    "\n",
    "elif nilai2 >= 40:\n",
    "    print('Grade = D')\n",
    "\n",
    "else:\n",
    "    print('Grade = E')"
   ]
  },
  {
   "cell_type": "code",
   "execution_count": null,
   "metadata": {},
   "outputs": [],
   "source": []
  }
 ],
 "metadata": {
  "kernelspec": {
   "display_name": "base",
   "language": "python",
   "name": "python3"
  },
  "language_info": {
   "codemirror_mode": {
    "name": "ipython",
    "version": 3
   },
   "file_extension": ".py",
   "mimetype": "text/x-python",
   "name": "python",
   "nbconvert_exporter": "python",
   "pygments_lexer": "ipython3",
   "version": "3.11.4"
  },
  "orig_nbformat": 4,
  "vscode": {
   "interpreter": {
    "hash": "3c06e3e46abf38078fe4dac36a0085ec2b134ebbd73dd076183d243eeca6918f"
   }
  }
 },
 "nbformat": 4,
 "nbformat_minor": 2
}
